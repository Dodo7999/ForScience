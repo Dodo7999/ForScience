{
 "cells": [
  {
   "cell_type": "code",
   "execution_count": null,
   "metadata": {
    "colab": {
     "base_uri": "https://localhost:8080/",
     "height": 35
    },
    "id": "T25sieiUFztX",
    "outputId": "96a7a86c-6bf9-4739-e915-601049bab491"
   },
   "outputs": [
    {
     "data": {
      "application/vnd.google.colaboratory.intrinsic+json": {
       "type": "string"
      },
      "text/plain": [
       "'2.6.0'"
      ]
     },
     "execution_count": 1,
     "metadata": {},
     "output_type": "execute_result"
    }
   ],
   "source": [
    "import tensorflow as tf\n",
    "tf.version.VERSION"
   ]
  },
  {
   "cell_type": "code",
   "execution_count": null,
   "metadata": {
    "id": "fvJuKHndF7nP"
   },
   "outputs": [],
   "source": [
    "from tensorflow import keras\n",
    "import numpy as np"
   ]
  },
  {
   "cell_type": "code",
   "execution_count": null,
   "metadata": {
    "colab": {
     "base_uri": "https://localhost:8080/"
    },
    "id": "6fTsol3YF7pt",
    "outputId": "e4c6e767-c6e5-4424-c4b3-bb38f437f1bb"
   },
   "outputs": [
    {
     "name": "stdout",
     "output_type": "stream",
     "text": [
      "Fri Sep 17 02:05:57 2021       \n",
      "+-----------------------------------------------------------------------------+\n",
      "| NVIDIA-SMI 470.63.01    Driver Version: 460.32.03    CUDA Version: 11.2     |\n",
      "|-------------------------------+----------------------+----------------------+\n",
      "| GPU  Name        Persistence-M| Bus-Id        Disp.A | Volatile Uncorr. ECC |\n",
      "| Fan  Temp  Perf  Pwr:Usage/Cap|         Memory-Usage | GPU-Util  Compute M. |\n",
      "|                               |                      |               MIG M. |\n",
      "|===============================+======================+======================|\n",
      "|   0  Tesla P100-PCIE...  Off  | 00000000:00:04.0 Off |                    0 |\n",
      "| N/A   41C    P0    27W / 250W |      0MiB / 16280MiB |      0%      Default |\n",
      "|                               |                      |                  N/A |\n",
      "+-------------------------------+----------------------+----------------------+\n",
      "                                                                               \n",
      "+-----------------------------------------------------------------------------+\n",
      "| Processes:                                                                  |\n",
      "|  GPU   GI   CI        PID   Type   Process name                  GPU Memory |\n",
      "|        ID   ID                                                   Usage      |\n",
      "|=============================================================================|\n",
      "|  No running processes found                                                 |\n",
      "+-----------------------------------------------------------------------------+\n"
     ]
    }
   ],
   "source": [
    "! nvidia-smi"
   ]
  },
  {
   "cell_type": "code",
   "execution_count": null,
   "metadata": {
    "colab": {
     "base_uri": "https://localhost:8080/"
    },
    "id": "2_Dy5dsDF7sB",
    "outputId": "654f6bea-808c-47f6-d808-40b0327f441d"
   },
   "outputs": [
    {
     "name": "stdout",
     "output_type": "stream",
     "text": [
      "Num GPUs Available:  1\n"
     ]
    }
   ],
   "source": [
    "print(\"Num GPUs Available: \", len(tf.config.list_physical_devices('GPU')))"
   ]
  },
  {
   "cell_type": "code",
   "execution_count": null,
   "metadata": {
    "id": "DFCPPzFuF7ua"
   },
   "outputs": [],
   "source": [
    "from keras.models import Model\n",
    "from keras.layers import Dense, Input, Flatten, MaxPooling3D\n",
    "import matplotlib.pyplot as plt\n",
    "from keras import layers\n",
    "from tensorflow.keras import layers\n",
    "from tensorflow.keras import regularizers"
   ]
  },
  {
   "cell_type": "code",
   "execution_count": null,
   "metadata": {
    "colab": {
     "base_uri": "https://localhost:8080/",
     "height": 218,
     "resources": {
      "http://localhost:8080/nbextensions/google.colab/files.js": {
       "data": "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",
       "headers": [
        [
         "content-type",
         "application/javascript"
        ]
       ],
       "ok": true,
       "status": 200,
       "status_text": ""
      }
     }
    },
    "id": "Tk7SqpQrF7wo",
    "outputId": "4b583da1-9950-4ac6-bea8-1aa95cf3dd99"
   },
   "outputs": [
    {
     "data": {
      "text/html": [
       "\n",
       "     <input type=\"file\" id=\"files-c4eea7b0-2d42-4b27-8c2e-c3398f4d5eb7\" name=\"files[]\" multiple disabled\n",
       "        style=\"border:none\" />\n",
       "     <output id=\"result-c4eea7b0-2d42-4b27-8c2e-c3398f4d5eb7\">\n",
       "      Upload widget is only available when the cell has been executed in the\n",
       "      current browser session. Please rerun this cell to enable.\n",
       "      </output>\n",
       "      <script src=\"/nbextensions/google.colab/files.js\"></script> "
      ],
      "text/plain": [
       "<IPython.core.display.HTML object>"
      ]
     },
     "metadata": {},
     "output_type": "display_data"
    },
    {
     "name": "stdout",
     "output_type": "stream",
     "text": [
      "Saving classes.txt to classes.txt\n",
      "Saving predicate-matrix-binary.txt to predicate-matrix-binary.txt\n",
      "Saving predicate-matrix-continuous.txt to predicate-matrix-continuous.txt\n"
     ]
    },
    {
     "data": {
      "text/plain": [
       "{'classes.txt': b'     1\\tantelope\\n     2\\tgrizzly+bear\\n     3\\tkiller+whale\\n     4\\tbeaver\\n     5\\tdalmatian\\n     6\\tpersian+cat\\n     7\\thorse\\n     8\\tgerman+shepherd\\n     9\\tblue+whale\\n    10\\tsiamese+cat\\n    11\\tskunk\\n    12\\tmole\\n    13\\ttiger\\n    14\\thippopotamus\\n    15\\tleopard\\n    16\\tmoose\\n    17\\tspider+monkey\\n    18\\thumpback+whale\\n    19\\telephant\\n    20\\tgorilla\\n    21\\tox\\n    22\\tfox\\n    23\\tsheep\\n    24\\tseal\\n    25\\tchimpanzee\\n    26\\thamster\\n    27\\tsquirrel\\n    28\\trhinoceros\\n    29\\trabbit\\n    30\\tbat\\n    31\\tgiraffe\\n    32\\twolf\\n    33\\tchihuahua\\n    34\\trat\\n    35\\tweasel\\n    36\\totter\\n    37\\tbuffalo\\n    38\\tzebra\\n    39\\tgiant+panda\\n    40\\tdeer\\n    41\\tbobcat\\n    42\\tpig\\n    43\\tlion\\n    44\\tmouse\\n    45\\tpolar+bear\\n    46\\tcollie\\n    47\\twalrus\\n    48\\traccoon\\n    49\\tcow\\n    50\\tdolphin\\n',\n",
       " 'predicate-matrix-binary.txt': b'0 0 0 0 0 0 0 0 0 0 0 1 0 1 1 0 0 1 0 0 1 0 0 1 0 1 1 0 0 0 1 0 0 0 0 0 0 0 1 1 0 1 0 1 0 1 1 0 0 0 1 0 0 0 1 0 1 1 0 0 0 0 1 1 0 0 0 0 1 0 1 0 1 0 1 0 0 0 0 1 0 1 0 0 0\\n1 0 0 1 0 0 0 0 0 0 0 1 0 1 1 0 1 0 0 0 0 0 1 0 0 0 1 1 0 0 0 1 0 0 0 0 0 0 1 1 1 1 0 1 1 1 1 1 1 1 0 1 1 0 0 0 1 0 1 0 0 1 1 0 0 0 0 0 0 1 0 0 1 0 1 0 0 1 1 0 1 0 1 0 0\\n1 1 0 0 0 0 0 0 1 1 0 0 1 1 1 0 1 1 1 0 0 0 0 0 0 1 0 1 0 1 0 0 0 0 0 0 1 0 0 1 0 1 0 0 0 0 1 0 0 0 1 1 1 1 0 0 0 0 1 0 0 0 0 0 1 1 0 0 0 0 0 0 0 1 0 1 0 0 1 0 1 1 0 0 0\\n0 0 0 1 0 0 0 0 0 0 0 1 0 1 0 1 1 0 0 0 0 1 1 0 0 1 1 0 1 1 0 1 0 0 0 0 1 0 0 1 0 1 0 1 0 1 1 0 1 1 1 1 0 0 0 0 0 0 0 0 0 0 1 0 0 1 0 0 0 0 0 0 0 0 1 1 0 0 0 1 1 1 1 1 0\\n1 1 0 0 0 0 0 0 1 1 0 1 1 0 1 0 0 1 0 0 0 0 1 1 0 1 1 1 0 0 0 0 0 0 0 0 0 0 1 1 0 1 0 1 0 1 1 0 0 0 1 0 1 0 0 0 0 0 0 0 0 0 1 1 0 0 0 0 0 0 0 0 0 0 1 0 0 0 0 1 1 1 1 0 1\\n0 1 1 0 1 0 0 0 0 0 0 1 0 0 0 1 1 0 0 0 0 1 1 0 0 1 1 1 0 0 0 1 0 0 0 0 0 0 1 1 1 0 1 0 0 1 0 1 0 0 1 1 1 0 0 0 0 0 0 0 0 0 1 1 0 0 0 0 0 0 0 0 0 0 1 0 0 0 0 1 1 0 1 0 1\\n1 1 0 1 1 0 0 0 1 0 0 1 0 1 1 0 0 1 0 0 1 0 0 1 1 1 1 0 1 0 0 0 0 1 0 0 0 0 1 1 0 1 0 1 0 1 1 0 0 0 1 0 0 0 1 0 0 1 0 0 0 0 1 1 0 0 0 0 1 0 1 0 0 0 1 0 0 0 0 1 1 1 0 0 1\\n1 0 0 1 1 0 0 0 1 0 0 1 0 0 1 0 0 1 0 0 0 1 1 1 0 1 1 1 0 0 0 1 0 1 0 0 0 0 1 1 0 1 0 1 0 1 1 0 0 0 1 0 1 0 0 0 0 0 1 0 0 1 1 1 0 0 0 0 1 0 0 0 0 0 1 0 0 0 1 0 1 0 1 0 1\\n0 0 1 0 1 0 0 0 0 1 0 0 1 1 1 0 1 0 1 0 0 0 0 0 0 1 0 0 0 1 0 0 0 0 0 0 1 0 0 1 1 1 0 1 0 0 0 1 0 0 0 1 0 1 0 0 0 0 0 0 1 0 1 1 1 0 0 0 0 0 0 0 0 1 0 1 0 0 0 1 1 1 1 0 0\\n1 1 0 1 1 0 0 0 1 0 0 1 0 0 0 1 0 1 0 0 0 1 1 1 0 1 1 1 0 0 0 1 0 0 0 0 0 0 1 1 0 0 1 1 0 1 1 1 1 0 1 1 1 0 0 0 0 0 1 0 0 1 1 1 0 0 0 0 0 0 0 0 0 0 1 0 0 0 1 1 1 0 1 0 1\\n1 1 0 0 0 0 0 0 0 0 1 1 0 0 0 1 1 0 0 0 0 1 1 0 0 1 0 0 0 0 0 0 0 1 0 0 0 0 1 1 1 0 1 0 0 1 1 0 1 1 0 0 0 0 1 0 1 0 0 0 0 0 1 1 0 0 0 0 0 1 1 0 0 0 1 0 0 0 0 1 0 0 1 0 0\\n1 0 0 1 1 0 0 0 0 0 0 1 0 0 0 1 1 1 0 0 0 0 1 0 0 0 1 0 1 0 0 1 0 0 0 0 0 1 1 1 1 0 1 0 0 1 1 0 1 1 1 0 0 0 1 1 1 0 0 0 0 0 1 1 0 0 0 0 1 1 1 0 0 0 1 0 0 0 0 1 0 0 1 1 0\\n1 1 0 0 0 1 0 0 0 0 1 1 0 0 1 0 0 1 0 0 0 1 1 0 0 1 1 1 1 0 0 1 0 1 0 0 0 0 1 1 0 1 0 1 0 1 1 0 1 0 1 0 1 0 0 0 0 0 1 0 0 1 0 1 0 0 0 1 1 1 0 1 0 0 1 0 0 0 1 0 1 1 1 1 0\\n0 0 0 0 1 0 0 0 0 0 0 0 1 1 1 0 1 0 0 0 0 0 0 0 0 0 1 0 0 1 0 0 0 0 0 0 1 0 1 0 1 1 0 1 0 1 0 1 0 0 0 1 0 0 1 0 0 0 0 0 0 0 0 1 0 0 0 0 0 0 0 1 0 0 1 1 0 0 0 1 0 0 1 0 0\\n1 0 0 1 0 0 0 1 1 1 0 1 0 0 1 0 0 1 0 0 0 0 1 1 0 1 0 1 0 0 0 1 0 0 0 0 0 0 1 1 0 1 0 1 0 1 1 0 1 0 1 1 1 0 0 0 1 0 1 0 0 1 1 1 0 0 0 1 1 0 0 1 1 0 1 0 1 0 1 0 1 0 1 1 0\\n0 0 0 1 0 0 0 0 0 0 0 1 0 1 1 0 1 0 0 0 1 0 0 1 1 1 1 0 0 0 1 0 0 1 0 0 0 0 1 1 1 1 0 1 0 1 0 1 0 0 0 0 0 0 1 0 1 1 0 0 0 0 1 1 1 0 0 0 1 1 1 0 1 0 1 0 0 0 0 1 0 1 1 0 0\\n1 0 0 1 1 0 0 0 0 0 0 1 0 0 0 1 0 1 0 1 0 0 1 1 0 1 1 0 0 0 0 0 0 0 0 0 0 0 1 1 0 1 0 1 1 1 1 0 0 0 1 0 0 0 1 0 1 1 0 0 0 0 1 1 0 0 0 0 0 1 0 1 0 0 0 0 1 0 0 1 1 1 0 1 0\\n1 0 1 0 1 0 0 0 0 0 0 0 1 1 1 0 1 0 1 0 0 0 0 0 0 1 0 0 0 1 0 0 0 0 0 0 1 0 0 1 1 1 0 1 0 0 0 1 0 0 0 1 0 1 0 0 0 0 0 0 1 0 1 1 1 1 0 0 0 0 0 0 0 1 0 1 0 0 0 1 1 1 0 0 0\\n0 0 0 0 1 0 0 0 0 0 0 0 1 1 1 0 1 0 0 0 0 0 0 1 0 1 1 0 0 0 0 0 1 1 0 0 0 0 1 0 1 1 0 1 0 1 0 1 0 0 0 0 0 0 1 0 0 1 0 0 0 0 0 1 0 0 0 1 0 0 0 1 0 0 1 0 0 0 0 1 1 1 0 0 0\\n1 0 0 1 0 0 0 0 0 0 0 1 0 1 1 0 1 0 0 1 0 0 0 1 0 0 1 1 0 0 0 0 0 1 0 0 0 0 1 1 0 1 0 1 1 1 1 0 0 0 1 0 1 0 1 0 1 0 0 0 0 0 0 1 0 0 0 0 0 1 0 1 0 0 1 0 1 0 1 0 1 1 0 1 0\\n1 1 0 1 1 0 0 0 0 0 0 1 1 1 1 0 1 0 0 0 1 0 0 0 0 1 1 0 0 0 1 0 0 1 0 0 0 0 1 0 1 1 0 1 0 1 0 1 0 0 0 0 0 0 1 0 0 1 0 0 0 0 1 1 0 0 0 1 1 0 1 0 0 0 1 0 0 0 0 1 0 0 1 0 1\\n0 0 0 1 0 1 1 0 0 0 0 1 0 0 0 1 0 1 0 0 0 1 1 0 0 1 1 1 0 0 0 1 0 0 0 0 0 0 1 1 0 1 0 1 0 1 1 0 1 1 1 1 1 0 0 0 1 0 1 0 0 1 1 1 0 0 0 0 1 1 1 0 0 0 1 0 0 0 1 0 1 0 1 1 0\\n1 1 0 0 0 0 0 0 0 0 0 1 0 0 0 0 1 0 0 0 1 0 0 0 0 0 1 0 0 0 0 0 0 1 0 0 0 0 1 0 1 0 1 0 0 1 0 1 0 0 0 0 0 0 1 0 0 1 0 0 0 0 1 1 0 0 0 0 1 0 1 0 1 0 1 0 0 0 0 1 0 1 0 0 1\\n1 1 0 1 1 0 0 0 0 1 0 0 1 1 1 1 0 0 1 0 0 0 0 0 0 1 0 0 0 0 0 0 0 0 0 0 1 0 0 1 1 1 0 0 0 0 1 1 0 0 1 1 0 0 0 0 0 0 1 0 0 0 1 1 1 1 0 0 0 0 0 0 0 1 0 1 0 0 0 1 1 1 0 0 1\\n1 0 0 1 0 0 0 0 0 0 0 1 0 1 1 1 0 1 0 1 0 0 0 1 0 1 1 1 0 0 0 0 0 1 0 0 0 0 1 1 0 1 0 1 1 1 1 0 0 0 1 0 0 0 1 1 1 0 0 0 0 0 1 1 0 0 0 1 0 1 0 1 1 0 1 0 1 0 1 1 1 1 0 1 1\\n1 1 0 1 1 0 0 0 1 0 0 1 0 0 0 1 1 0 0 0 0 0 1 0 0 1 1 0 1 0 0 1 0 1 0 1 0 1 1 1 0 0 1 0 0 1 1 1 1 1 1 0 0 0 1 0 1 1 0 0 0 0 1 0 0 0 0 0 0 0 1 0 0 0 1 0 0 0 0 1 0 0 1 1 1\\n0 0 0 1 1 0 0 0 0 0 0 1 0 0 0 1 0 0 0 0 0 1 1 0 0 1 1 0 1 0 0 1 0 0 0 1 0 0 1 1 0 0 0 0 1 1 1 0 0 1 1 0 0 0 1 0 1 0 0 0 0 0 1 1 0 0 0 0 0 1 0 0 0 0 1 0 1 0 0 1 0 0 1 1 0\\n0 0 0 0 1 0 0 0 0 0 0 0 1 1 1 0 1 0 0 0 1 0 0 0 0 0 0 0 0 0 1 0 1 1 0 0 0 0 1 0 1 1 0 0 0 1 0 1 0 0 0 0 0 0 1 0 0 1 0 0 0 0 0 1 0 0 0 1 0 0 0 1 0 0 1 0 0 0 1 0 0 1 1 0 0\\n1 1 0 1 1 0 0 0 1 0 0 1 0 0 0 1 1 0 0 0 0 0 1 0 0 1 1 0 1 0 0 0 0 0 0 1 0 0 0 1 0 0 1 0 0 1 1 1 0 0 1 0 0 0 1 0 1 1 0 0 0 0 1 1 0 0 0 1 1 1 1 0 0 0 1 0 0 0 0 1 0 1 0 1 1\\n1 0 0 1 1 0 0 0 0 0 0 1 1 1 0 1 0 1 0 0 0 0 0 0 0 0 1 1 0 0 0 1 0 1 1 0 0 0 0 1 0 0 1 1 1 0 1 1 1 1 1 0 1 0 1 1 1 0 1 1 0 0 1 1 0 0 0 0 0 1 0 1 1 0 0 0 1 1 1 0 1 1 0 1 0\\n0 0 0 1 0 1 0 1 1 1 0 0 0 0 1 0 0 1 0 0 1 0 0 1 1 1 1 0 0 0 1 0 0 1 0 0 0 0 1 1 1 1 0 1 0 1 1 1 0 0 0 0 0 0 1 0 0 1 0 0 0 0 0 1 0 0 0 1 1 0 1 0 0 0 1 0 0 0 0 1 0 1 0 0 0\\n1 1 0 1 1 0 0 0 0 0 0 1 0 0 1 0 0 1 0 0 0 1 1 0 0 1 1 1 0 0 0 1 0 0 0 0 0 0 1 1 0 1 0 1 0 1 1 0 1 0 1 0 1 0 0 0 1 0 1 1 0 1 1 1 1 0 0 0 1 1 0 0 1 0 1 0 0 1 1 0 1 1 1 0 0\\n1 0 0 1 1 0 0 0 0 0 0 1 0 0 0 1 0 1 0 0 0 1 1 0 0 1 0 1 0 0 0 1 0 1 0 0 0 0 1 1 0 0 1 0 0 1 1 0 0 0 0 0 1 0 0 0 0 0 0 0 0 0 1 1 0 0 0 0 0 0 0 0 0 0 1 0 0 0 1 1 1 0 1 0 1\\n1 1 0 1 1 0 0 0 0 0 0 1 0 0 0 1 1 1 0 0 0 0 1 0 0 1 0 1 1 0 0 1 0 1 0 0 0 1 1 1 0 0 0 0 0 1 1 0 1 1 1 0 1 0 0 1 1 0 1 1 0 0 1 1 0 0 0 0 1 1 1 0 0 0 1 0 0 0 1 0 1 0 1 1 0\\n1 0 0 1 1 0 0 0 0 0 0 1 0 0 0 1 0 1 0 0 0 0 1 0 0 1 1 1 0 0 0 1 0 1 0 0 0 1 1 1 0 0 0 1 0 1 1 0 1 0 1 0 1 0 0 0 1 0 1 0 0 0 1 1 0 0 0 0 0 1 1 0 0 0 1 0 0 0 1 0 1 0 1 0 0\\n1 0 0 1 0 0 0 0 0 0 0 1 0 0 0 1 1 1 1 0 0 0 1 0 0 1 1 1 1 0 0 1 0 0 0 0 1 0 0 1 0 0 0 0 0 1 1 0 0 0 1 1 0 0 0 0 0 0 1 0 0 0 1 1 1 1 0 0 0 1 0 0 0 1 0 1 0 0 0 1 1 0 1 1 0\\n1 0 0 1 0 0 0 0 0 0 0 1 0 1 1 0 1 0 0 0 1 0 0 0 0 0 1 0 0 0 1 0 0 1 0 0 0 0 1 1 1 1 0 1 0 1 0 1 0 0 0 0 0 0 1 0 1 1 0 0 0 0 1 0 0 0 0 0 1 0 0 0 0 0 1 0 0 0 1 0 0 1 0 0 0\\n1 1 0 0 0 0 0 0 0 0 1 1 0 1 1 0 0 1 0 0 1 0 0 1 1 1 1 0 0 0 0 0 0 0 0 0 0 0 1 1 0 1 0 1 0 1 1 0 0 0 1 0 0 0 1 0 1 1 0 0 0 0 0 1 0 0 0 1 1 0 1 0 0 0 1 0 0 0 0 1 1 1 0 0 0\\n1 1 0 0 0 0 0 0 1 1 0 1 0 0 1 0 1 0 0 0 0 1 1 0 0 0 1 0 1 0 0 1 0 0 0 0 0 0 1 0 1 1 0 0 1 1 0 1 0 0 0 1 0 0 1 0 1 1 0 0 0 0 1 1 0 0 0 1 0 1 0 1 0 0 1 0 1 0 0 1 1 1 1 1 1\\n0 0 0 1 0 0 0 0 1 1 0 1 0 0 1 0 0 1 0 0 1 0 0 1 1 1 1 0 0 0 1 0 0 0 0 0 0 0 1 1 0 1 0 1 0 1 1 0 0 0 1 0 0 0 1 0 1 1 0 0 0 0 1 1 0 0 0 0 1 1 1 0 1 0 1 0 0 0 0 1 1 1 0 1 0\\n0 0 0 1 0 1 0 1 0 1 0 1 0 0 0 1 0 1 0 0 0 1 1 0 0 1 0 1 0 0 0 1 0 0 0 0 0 0 1 1 0 1 0 1 0 1 1 0 0 1 1 0 1 0 0 0 1 0 1 0 0 1 1 1 0 0 0 0 1 1 0 0 1 0 1 0 1 1 1 0 1 0 1 0 0\\n1 1 0 1 1 0 0 0 1 1 0 0 1 1 1 0 1 0 0 0 1 0 0 0 0 1 1 0 0 0 0 0 0 1 0 0 0 0 1 0 1 1 0 0 0 1 0 1 0 0 0 0 0 0 1 0 1 0 0 0 0 0 1 1 0 0 0 0 0 0 1 0 0 0 1 0 0 0 1 1 1 1 0 0 1\\n0 0 0 1 0 0 0 1 0 0 0 1 0 0 1 0 1 1 0 0 0 1 1 0 0 1 0 1 0 0 0 1 0 1 0 0 0 0 1 1 0 1 0 1 0 1 1 1 0 0 1 0 1 0 0 0 1 0 1 0 0 1 0 1 0 0 1 1 0 1 0 1 1 0 1 0 0 0 1 0 1 1 0 1 0\\n0 1 0 1 1 0 0 0 0 0 0 1 0 0 0 1 0 0 0 0 0 0 1 0 0 1 1 0 1 0 0 0 0 1 0 0 0 1 1 1 0 0 1 0 0 1 1 0 1 1 1 0 0 0 1 0 0 1 0 1 0 0 1 1 0 0 0 0 1 1 1 0 0 0 1 0 0 0 0 1 0 1 0 1 1\\n0 1 0 0 0 0 0 0 0 0 0 1 0 1 1 0 1 0 0 0 0 1 1 0 0 0 1 1 0 0 0 1 0 1 0 0 1 0 1 1 1 1 0 0 1 1 1 1 0 1 1 1 1 0 0 0 1 0 1 1 0 1 1 1 1 1 0 0 0 0 0 0 0 1 1 1 0 0 1 0 0 0 1 0 0\\n0 1 0 1 0 0 0 0 1 0 0 1 0 0 1 1 0 1 0 0 0 0 1 0 0 1 1 1 0 0 0 0 0 0 0 0 0 0 1 1 0 0 0 0 0 1 1 0 0 0 1 0 1 0 0 0 0 0 1 0 0 0 1 1 0 0 0 0 0 0 0 0 0 0 1 0 0 0 0 1 1 0 1 0 1\\n0 0 0 1 1 0 0 0 0 0 0 0 1 1 1 0 1 0 1 0 0 0 0 0 0 0 1 1 1 1 0 0 1 1 0 0 1 0 0 1 1 1 0 0 0 0 0 1 0 0 0 1 0 0 0 0 0 0 0 0 0 0 1 0 1 1 0 0 0 0 0 0 0 1 0 1 0 0 0 1 1 1 0 1 0\\n1 1 0 0 1 0 0 0 1 1 1 1 0 0 0 1 0 0 0 0 0 1 1 0 0 1 1 1 0 0 0 1 0 0 0 0 0 0 1 1 0 0 0 0 0 1 1 0 1 1 1 1 1 0 1 0 1 0 0 1 0 0 1 1 0 0 0 0 0 1 1 0 1 0 1 0 1 0 1 0 1 0 1 1 0\\n1 1 0 1 0 0 0 0 1 1 0 1 0 1 1 0 1 0 0 0 1 0 0 0 0 1 1 0 0 0 1 0 0 1 0 0 0 0 1 0 1 1 0 0 0 1 1 1 0 0 0 0 0 0 1 0 0 1 0 0 0 0 1 1 0 0 0 0 1 0 1 0 0 0 1 0 0 0 0 1 0 1 0 0 1\\n0 1 1 0 1 0 0 0 0 0 0 0 1 1 1 0 0 1 1 0 0 0 0 0 0 1 1 0 0 0 0 0 0 0 0 0 1 0 0 1 0 1 0 1 0 0 1 0 0 0 1 1 0 0 0 0 0 0 0 0 0 0 1 1 0 1 0 0 0 0 0 0 0 1 0 1 0 0 0 1 1 1 0 0 1\\n',\n",
       " 'predicate-matrix-continuous.txt': b'  -1.00  -1.00  -1.00  -1.00  12.34   0.00   0.00   0.00  16.11   9.19   0.00  38.09   4.44  28.55  38.75   5.68  17.07  39.99   0.00   0.00  67.08   7.78   0.00  60.24  16.80  40.59  29.70   5.56   2.47   0.00  87.43   0.00   8.64   9.04   0.00   9.23   1.23   0.00  54.58  70.86   3.33  33.56   8.15  26.14   0.00  67.85  41.19   7.36   1.11   6.94  62.32   0.00   4.44   0.00  57.76  12.63  33.24  61.86   0.00   0.00   0.00   0.00  22.72  55.81   5.90   0.00   0.00  19.88  54.79   4.94  40.97   0.00  22.32   0.00  57.14   0.00   0.00   1.23  10.49  39.24  17.57  50.59   2.35   9.70   8.38\\n  39.25   1.39   0.00  74.14   3.75   0.00   0.00   0.00   1.25   0.00   0.00  82.37   0.00  21.82  86.69   0.00  45.13   0.00   0.00  11.65   0.00   3.75  69.60   9.01   0.00   9.38  44.25  64.69  15.00   1.25   0.00  68.87   0.00  11.25   0.00   0.00   2.50   0.00  64.85  46.97  22.57  78.48   1.25  48.89  51.21  36.77  29.95  32.57  24.32  86.14  15.92  32.15  64.58   0.00  16.88   0.00  25.74   0.00  60.83   5.26   1.12  26.05  61.54   3.95   6.65   2.78   0.00   0.00   0.00  77.40  10.00   2.50  43.85   0.00  47.77   7.64   9.79  53.14  61.80  12.50  24.00   3.12  58.64  20.14  11.39\\n  83.40  64.79   0.00   0.00   1.25   0.00   0.00   0.00  68.49  32.69   0.00   1.25  70.62  57.04  90.85   1.25  61.87  22.68  79.94   0.00   0.00   0.00   0.00   0.00   1.25  41.67  12.50  45.15   5.00  30.22   0.00   0.00   0.00   7.50   1.25   0.00  91.45   0.00   0.00  57.37   5.14  63.35   1.25  10.45   0.00   0.00  27.29  13.23   8.75   0.00  27.80  66.75  21.81  32.86   3.75   0.00  10.89   0.00  57.87   6.61  20.36  15.00  16.25  12.50  24.51  30.11   0.00   0.00   0.00   0.00   0.00   0.00   0.00  88.28   0.00  79.49   0.00   0.00  38.27   9.77  52.03  24.94  15.77  13.41  15.42\\n  19.38   0.00   0.00  87.81   7.50   0.00   0.00   0.00   0.00   7.50   0.00  46.25   1.25  25.00   6.88  43.12  37.50   8.75   4.38  13.12   0.00  24.38  39.38   0.00   0.00  86.56  45.31   5.00  83.12  29.69   0.00  30.62   0.00   3.12   0.00   0.00  74.06   8.75  10.94  25.00   8.75  32.81   8.75  24.38  12.50  24.38  67.81   2.50  21.88  36.88  36.25  48.75   2.50   3.12  18.12   0.00  10.62   4.69   3.75   7.50   6.25   1.25  63.44  19.06  11.25  33.75   0.00   0.00   0.00  19.06  15.62   0.00   0.00   0.00  31.25  65.62   0.00   0.00   3.75  31.88  41.88  23.44  31.88  33.44  13.12\\n  69.58  73.33   0.00   6.39   0.00   0.00   0.00   0.00  37.08 100.00   0.00  27.15  25.90   7.50  39.31   8.12   0.00  63.68   0.00   0.00   0.00   7.50  69.03  40.07   0.00  53.75  34.44  35.56   0.00   0.00   0.00   4.17   0.00   0.00   0.00   0.00   9.38   0.00  67.99  61.74   3.75  34.93   3.89  23.75  10.14  77.92  37.50   3.75   2.50   0.00  38.68   0.00  39.58   0.00   0.00   0.00   0.00   0.00   7.50   0.00   0.00   8.75  63.47  29.86   0.00   1.25   0.00   0.00   0.00   0.00   1.25   0.00   0.00   0.00  41.39   1.25   6.25   0.00   9.38  31.67  53.26  24.44  29.38  11.25  72.71\\n  19.38  50.09  29.44   8.98  38.19   0.00   0.00   0.00  17.93   6.25   6.25  90.19   0.00   6.25   6.25  42.02  32.92  14.54   0.00   0.00   0.00  42.44  68.81   8.89   8.75  66.80  30.69  41.26   0.00   0.00   0.00  55.68   0.00   7.86   0.00   6.25   6.25   0.00  65.69  26.98  46.18  12.58  29.53  12.50   7.50  66.15  13.89  49.04  10.55   1.56  44.50  39.96  28.85   0.00   6.25   5.00   6.25   6.25  10.98   5.08   0.00   9.03  50.66  54.31   0.00   1.39   6.25   6.25  10.55   8.98   9.77   6.25   6.25   0.00  47.50   1.25   2.64   0.00  13.98  43.69  38.62   6.25  36.60   9.17  72.88\\n  44.90  42.91   4.44  69.41  35.94   0.00   0.00   0.00  22.29  15.80   0.00  40.58  12.59  42.45  71.50   0.00  15.72  47.96   0.00   0.00  86.32   3.70   0.00  70.57  44.94  70.42  50.14   2.92  27.60   0.00   0.00   0.00   0.00  33.07   0.00   0.00   0.00   0.00  55.58  81.68   1.11  69.13   1.11  51.14   0.00  70.35  55.95   1.11   1.11   1.11  49.00   0.00   5.85   0.00  51.05   0.00   2.34  72.19   4.09   0.00   0.00   0.00  62.29  50.07   0.00   2.92   6.73   8.48  52.54  10.76  70.14   3.33  16.22   0.00  56.52   2.22   0.00   0.00  15.51  35.39  37.28  36.47  16.78  14.62  59.33\\n  43.54  15.88   5.00  54.16  26.82   3.12   2.50   0.38  48.78  11.59   1.56  66.05   3.75  18.46  54.88   1.25  15.85  38.05   0.00   0.00   0.00  41.94  59.80  23.91   0.00  72.30  29.38  75.43   0.00   5.00   0.00  31.83   0.00  23.41   0.00   0.00   0.00   0.00  76.91  57.02   3.12  62.33   1.25  50.69   5.00  82.93  58.15   1.88   7.50   0.00  60.14   6.25  69.25   0.00   7.50   0.00   5.62   0.62  43.77  11.25   0.00  21.02  64.49  48.92   6.25   2.50   1.25   2.50  21.33  17.89  12.50   0.00  11.25   0.00  72.61   3.75   0.00   2.50  57.44  10.00  57.53  12.50  35.11  16.53  68.55\\n  12.92   4.38  67.08   7.50  25.60   0.00   0.00   0.00  15.31  23.75   2.50   0.00  64.47  45.17  86.46   0.00  65.15  11.88  64.87   0.00   0.00   0.00   0.00   0.00   0.00  26.42   0.00   0.00   0.00  69.32   0.00   0.00   0.00  13.75   0.00   0.00  71.82   0.00   0.00  21.42  42.60  55.26   0.00  25.37   0.00   0.00   7.88  35.48   6.25   0.00   7.06  28.81   0.00  75.25   0.00   0.00   0.00   0.00   5.94   0.00  45.73   0.00  33.96  30.21  32.75   5.31   0.00   0.00   0.00   0.00   0.00   0.00   0.00  74.11   0.00  76.61   0.00   0.00   7.50  44.58  39.06  33.12  25.99  10.83   5.00\\n  56.21  23.51  12.22  32.69  38.13   0.00   0.00   0.00  35.83   6.94   0.00  72.76  10.00   5.00   2.22  61.50   4.44  61.86   0.00   0.00   0.00  31.44  64.22  26.27  11.11  59.15  25.56  39.91   0.00   9.44   0.00  59.78   0.00  13.61   0.00   0.00   2.22   0.00  67.39  43.24  18.33   8.96  28.89  35.03  10.00  80.44  37.63  32.01  29.16   5.62  64.05  30.39  40.63   0.00   5.00   3.89  19.05   0.00  34.60  18.37   0.00  51.61  64.25  58.20   1.11   7.78   1.11   5.56   7.78   4.44  10.00   2.22   5.56   0.00  60.42   2.22  10.00   1.11  35.98  28.82  52.90   3.33  47.54  17.22  83.55\\n  87.99  85.35   0.00   0.00   0.00   0.00   0.00   0.00   6.46   1.25  85.76  80.00   0.62   8.12   0.00  64.33  28.06  16.88   0.00   8.33   0.00  27.71  59.79   1.39   2.78  83.33  20.00   8.75  18.12   5.00   0.00  17.57   0.00 100.00   0.00   0.00   8.33   2.50  64.86  30.21  30.97   3.12  36.04   3.75   5.00  70.83  22.50  19.93  35.62  33.68  15.42   6.94   4.38   0.00  44.38   6.46  33.75   0.00   4.17   5.56   6.94   0.00  67.85  21.88   0.00   0.00   0.00   8.33  11.60  47.85  51.46   0.00   5.62   0.00  73.82   4.03   3.26  10.00  17.29  46.11  12.50   2.50  47.85  18.19   8.89\\n  39.05   0.00   0.00  51.33  34.91   0.00   0.00   0.00   5.62   0.00   0.00  45.81  14.88   8.96   1.25  59.06  42.27  20.91   0.00   7.92   0.00  19.36  43.17   0.00   0.00  20.00  27.71  10.00  27.16   1.88   0.00  28.73   0.00  10.42   0.00   0.00   0.00  77.61  49.03  20.90  26.20   1.25  31.35  16.41   1.39  51.05  48.83  20.67  25.14  31.69  26.70   0.00  12.92   0.00  40.05  31.67  39.28   5.62   0.62  11.49   0.00   0.00  44.68  24.72   0.00   1.39   0.00   9.38  27.58  43.67  57.67   0.00   0.62   0.00  51.30   0.00  10.00   9.72  16.88  29.47  16.67   0.00  55.31  29.79  13.75\\n  42.47  30.12   3.75  20.00   2.50  72.91   5.00  17.18   8.26   6.08  89.30  66.23   2.64  16.01  78.36   0.00  14.09  48.87   0.00   0.00   0.00  33.28  60.83  19.20   8.33  66.65  31.74  85.88  21.11   0.00   0.00  75.05   0.00  28.52   0.00   0.00   5.00   0.00  73.92  76.21   3.75  84.04   0.00  82.34   0.00  77.12  59.45  10.62  38.24  14.24  68.97  13.61  86.97   0.00   4.63   1.25   4.38   0.00  84.93   2.75   0.00  87.22  13.12  83.28   1.25   0.00   1.25  47.83  25.42  21.32   2.50  75.79  14.88   0.00  76.24   4.06   6.39  20.14  83.81   3.75  36.59  23.96  39.36  24.34   5.64\\n   4.77   0.00   0.00  18.61  81.49   0.00   0.00   0.00   0.00   0.00   0.00   0.00  63.91  66.12  79.48   2.50  59.45   0.00   0.00   0.00  14.31   8.33   0.00   3.56   0.00   7.27  31.94   8.75   0.00  28.12   6.25   0.00   0.00  17.50   1.25   0.00  40.37   0.00  48.83   2.50  68.69  49.76   1.25  32.09   0.00  60.22   6.25  50.23   0.00   0.00   8.52  23.33  13.75   6.25  49.22   0.00   6.02  18.52   3.75   2.50   0.00   0.00   5.00  68.55   0.00   3.75   0.00   3.41   5.21   8.75   0.00  28.47   0.00   0.00  31.15  46.78   0.00   0.00  19.17  29.58   8.75  20.60  25.14   2.31   0.00\\n  40.88  19.44   0.00  31.33   2.50  20.42   2.50  24.58  26.11  74.97   1.25  43.27  10.97  12.18  54.64   5.00   0.00  73.48   0.00   0.00   0.00  19.45  69.90  40.39   6.81  48.22  14.58  75.91   0.00   8.75   0.00  68.80   0.00  11.02   0.00   0.00   5.28   0.00  62.77  85.26   0.00  55.18   0.00  62.22   0.00  78.00  71.82   7.50  25.81  14.76  75.10  26.19  84.52   0.00   1.25   1.25  30.33   9.87  69.02   6.25   0.00  79.76  24.24  62.61   2.50   0.00   0.00  38.05  32.91  18.05  15.08  68.99  26.03   0.00  55.17   2.50  25.37  10.56  70.30   0.00  37.16  11.25  33.84  22.08   6.25\\n  10.24   6.25   0.00  91.20  11.81   0.00   3.57   0.00  12.50  12.50   0.00  36.85  10.00  28.57  87.73   0.00  36.63  11.25   0.00   0.00  73.81   2.50   0.00  44.24  31.52  29.59  53.48  12.08  17.50   0.00  93.02   0.00   0.00  27.06   0.00   0.00   2.50   0.00  66.55  22.74  42.01  68.53   1.25  35.50   0.00  82.61  18.06  37.86   3.75   0.00   6.25   7.50  14.17   0.00  78.06   0.00  46.46  77.33  18.06   2.50   0.00  11.25  82.33  34.31  26.58   3.75   1.25   5.00  49.44  58.47  46.04   3.75  67.19   0.00  67.44   1.25   0.00   2.50   8.75  40.42  19.11  30.34  31.94  10.14   5.14\\n  36.04   6.77   0.00  55.21  34.48   0.00   0.00   0.00   0.00   0.00   3.12  64.93   5.00   7.81  20.00  45.24   0.00  44.93   0.00  67.64   0.00  18.75  27.50  55.69   0.00  72.26  29.48   3.12   0.00   3.12   0.00   0.00   0.00  16.98   0.00   0.00   0.00   0.00  37.85  58.12   8.75  24.17  18.23  24.06  32.81  32.40  74.90   7.50   5.00   0.00  88.33   0.62   9.38   0.00  52.81  12.57  35.38  21.15   5.00   2.50   0.00   2.08  21.01  45.83   0.00   0.00   0.00   8.75   1.25  33.26   3.75  61.88   3.75   0.00  20.62   0.00  76.01   1.25  17.71  23.68  55.00  39.06   9.38  31.67  12.78\\n  24.01   5.92  31.10   8.75  59.43   0.00   0.00   0.00  18.72   6.88   3.95   0.00  65.21  68.52  94.60   0.00  64.92  13.75  63.98   0.00   0.00   0.00   0.00   0.00   0.00  44.80  16.25   0.00   0.00  42.37   0.00   0.00   0.00  15.00   0.00   0.00  89.36   0.00   0.00  26.70  25.94  63.27   2.50  28.98   0.00   0.00  12.50  29.86   3.75   0.00  10.34  42.24   2.50  82.30  12.38   0.00  11.25   0.00  15.65  10.34  50.11   0.00  35.34  27.84  48.70  27.61   0.00   0.00   0.00   0.00   0.00   0.00   0.00  89.36   0.00  89.95   0.00   0.00   3.75  60.72  60.31  51.03  19.06  20.34   0.00\\n   2.50   3.75   0.00  15.23  83.97   0.00   0.00   0.00   0.00   1.25   0.00   1.14  68.27  77.62  85.48   1.25  48.52   1.25   0.00   0.00  10.60  17.10   5.08  39.14   1.25  51.97  38.16   0.00  11.25   0.00   1.14   0.00  70.47  49.67   3.75   0.00   0.00   0.00  66.19   3.75  63.03  67.45   0.00  25.56   0.00  70.61   6.48  53.62   7.50   0.00   5.78   0.00   5.68   0.00  55.85   1.25   8.06  43.83   3.75   2.50   0.00   0.00   4.53  84.56   0.00   0.00   8.75  36.91  14.11   7.58  16.10  36.33   0.00   0.00  66.81   1.25   0.00   0.00  20.63  39.36  22.81  49.87   6.25  12.29   6.88\\n  63.37   1.79   7.14  45.51  17.01   8.48   3.57   0.00   0.00   0.00   0.00  79.21   0.00  28.08  70.48   2.50  31.77  12.68   0.00  61.50   0.00   8.12   1.25  33.57   3.75  10.00  34.01  22.14  11.98   0.00   0.00   4.55   0.00  42.60   0.00   7.50   2.50   0.00  63.43  37.06  18.75  73.42   1.25  65.79  68.80  37.17  49.22   6.56   8.75   0.00  59.73   7.41  30.62   0.00  53.31  15.36  34.71   7.50  19.11  12.63   0.00  11.25  12.50  73.83   1.25   8.75   1.25  15.00   5.00  33.19   6.25  77.01  17.14   0.00  40.73   1.25  50.29  14.12  46.23  12.13  56.19  54.50   7.50  44.17  18.93\\n  43.99  27.68  12.21  50.80  36.31   5.91   3.75   0.00  19.03  15.62   0.00  30.02  33.30  52.54  73.47   0.00  52.36   3.75   0.00   0.00  69.01   3.75   5.00  12.78   2.50  58.05  45.18   8.75  20.68   0.00  63.70   0.00   1.25  49.28  16.25   0.00   1.25   0.00  78.90   5.28  64.13  88.78   1.25  30.51   0.00  77.18  17.61  51.44   2.50   0.00   3.75   1.25  10.80   0.00  59.98   2.50  10.36  66.23   0.00   2.50   0.00   0.00  50.38  54.70   0.00  18.00  12.50  21.75  40.95   6.25  45.51   5.00  10.00   0.00  70.02   2.50   0.00   1.25  20.16  33.65  14.68  16.79  32.39  13.12  53.33\\n   0.00   1.56   0.00  51.25  11.17  48.92  40.89   3.75   1.56   0.00   0.00  66.35   0.00   5.70   5.23  52.79   0.00  50.61   0.00   6.25   0.00  20.98  42.58   7.59   0.00  66.65  37.28  64.48   6.25   7.50   0.00  32.64   0.00  11.66   0.00   0.00   3.12   0.00  62.75  67.51   0.00  26.72   1.25  21.60   0.00  66.89  54.00   5.70  43.24  21.91  49.56  28.57  68.87   0.00   5.28   0.00  32.03   0.00  61.52  19.58   0.00  61.20  61.81  43.33  19.28   7.50  13.12  12.50  21.17  61.82  39.69   5.00  13.12   0.00  58.62   0.00   1.25   4.06  44.90   5.00  79.26  18.75  48.18  27.88   4.38\\n  32.36  89.09   0.00   8.41  19.38   0.00   0.00   0.00   0.00   0.00   0.00  61.16   3.12   9.55  16.53  18.75  35.62   2.50   0.00   0.00  36.62   3.75   0.00  10.80   0.00  11.65  34.55   1.25  15.00   0.00   6.53   0.00   0.00  23.75   1.25   1.25   0.00   0.00  73.69   4.66  40.94  10.00  40.00   8.41   0.00  80.14   3.75  36.22   0.00   0.00   7.05   0.00   0.00   0.00  69.91   0.00   2.50  68.35   0.00   1.25   0.00   0.00  57.78  57.33   0.00   5.00   1.56  17.19  42.81   1.25  65.17   2.50  49.80   0.00  66.62   0.00   0.00   0.00   0.00  54.38  10.62  73.69   0.00   7.50  30.68\\n  81.96  29.31   1.56  35.00  44.50   0.00   0.00   0.00  17.19  23.12   0.00  20.45  44.75  49.97  30.91  24.32  20.23  10.94  78.12   2.50   0.00   2.50   5.00   0.00   6.25  41.14  11.25  10.31   7.50   8.30   0.00   3.75  11.25   6.25   0.00   8.75  81.51   0.00   4.06  29.32  31.36  23.18  14.32  10.45   1.56  11.25  28.98  20.80   2.50   0.00  49.81  70.00   6.25  12.50   7.81   1.25   7.81   0.00  27.88   0.00   6.25   6.25  32.24  30.31  74.38  59.15   0.00   0.00   0.00   0.00   0.00   0.00   0.00  82.53  19.43  78.92   0.00   5.00  13.75  35.31  44.49  49.84   6.25  18.18  47.03\\n  47.51   9.93   0.00  69.10  13.05   7.14   0.00   2.50   0.62   0.00   0.00  81.98   0.46  20.96  28.29  38.26   6.56  45.75   0.00  77.77   0.00   9.69   9.31  65.34   2.50  54.26  52.62  24.34  11.84   0.00   0.00  14.44   0.00  49.83   0.00  10.31   3.75   0.00  59.72  56.94  15.42  41.19  17.27  41.83  66.82  44.53  77.80   7.50   9.81   0.00  75.86   2.50   8.31   0.00  67.15  22.28  33.53  11.94   7.50  15.36   0.00   8.75  52.98  74.34   1.25   8.75   5.00  65.09  15.58  63.58   0.00  91.98  27.35   0.00  28.70   1.25  81.36  10.00  23.10  29.64  84.36  74.51   8.75  41.93  36.62\\n  41.38  39.71   0.00  62.76  37.38  17.50   2.50  10.00  52.77   8.50   7.50  86.82   0.00   5.56   0.00  76.33  39.03   5.56   0.00   7.50   0.00   7.50  44.47   0.00   0.00  26.34  33.15  11.11  62.08   5.00   0.00  22.53   0.00  26.23   0.00  23.61   0.00  35.99  62.24  39.33   8.75   3.89  46.96   0.00   2.64  72.49  47.28  29.95  34.58  26.88  32.57   0.00   0.00   0.00  60.33  10.00  27.26  22.71   0.00   9.61   0.00   0.00  53.14  20.56   0.00   3.75  13.75   5.00   8.75   2.50  42.91   0.00   0.00   0.00  69.09   0.00   5.00   2.50   8.75  40.69  18.37  16.98  35.00  36.60  71.44\\n  10.56  13.19   0.00  64.51  72.67   0.00   3.12   0.00   9.79   2.50  12.50  78.78   0.00  14.62   2.64  74.10   0.00  19.58   0.00  17.19   0.00  23.12  43.19   1.39   3.89  84.69  37.53   0.00  49.44   0.00   0.00  29.19   0.00   1.95  13.02  23.02   3.75   8.06  35.21  54.93   4.03  14.17  19.97  15.00  36.04  42.67  62.01   2.50  10.00  51.26  60.26   3.75   1.25   0.00  64.72   3.75  77.01   2.50   0.00   0.00   0.00   0.00  67.85  38.65   3.75   7.50   0.00  10.00  10.00  66.53  19.90   6.25  10.00   0.00  28.68   1.25  70.99   1.25   7.92  38.16  18.48   9.17  22.58  21.56  14.76\\n   9.75   7.50   7.50  19.90  63.96   0.00   0.00   0.00   2.95   1.39   0.00   1.14  54.46  76.17  82.00   0.00  48.90   0.00   0.00   0.00  29.65  17.99   0.00   9.90   6.94  17.05  19.44   0.00   0.00   3.12  71.89   3.75  24.58  22.52   0.00   0.00   0.00   0.00  52.54  10.21  43.19  55.38   1.25  12.04   1.39  58.54   2.64  32.60   0.00   0.00   4.91   1.04   7.95   0.00  40.18   9.72   9.66  23.06   0.00   0.00   0.00   0.00   2.64  72.10   0.00   0.00   0.00  39.55  18.54   0.00   0.00  27.78   0.00   0.00  63.60  13.54   0.00   0.00  42.50  13.33  10.59  22.85  25.17   3.75   2.50\\n  26.49  64.32   0.00  47.12  39.71   0.00   0.00   0.00  26.04   9.26   0.00  80.89   0.00   7.95   2.27  63.35  47.73   5.05   0.00   0.00   0.00  15.21  56.45   4.51   2.78  61.10  45.97   0.00  60.52   0.00   0.00  17.59   0.00  12.71   0.00  87.59   1.39  16.89  19.48  63.26  10.07   4.79  40.00  13.96   3.12  49.13  47.86  22.73  18.61  19.68  24.56   0.00   0.00   0.00  75.87   0.00  34.33  48.98   0.00   0.00   0.00   0.00  62.10  45.71  12.38  11.46   3.75  21.11  23.26  28.32  58.09   0.25   4.00   0.00  65.18   0.00   0.00   7.27   4.17  61.21  11.47  38.16  18.89  38.89  60.52\\n  91.55   1.39   0.00  54.76  27.64   0.00   0.00   0.00   1.25   1.25   0.00  38.75  40.61  30.00   1.25  72.47  15.28  45.69   0.00   5.28   0.00   0.00   7.50  10.96   5.42  15.11  26.18  62.03   8.12   0.00   0.00  54.12   0.00  30.33  95.90   2.50   0.00   0.00   2.50  80.96   9.91   7.50  35.58  35.73  23.75   6.48  36.24  36.81  98.86  45.30  42.11   6.25  43.40   0.00  36.46  46.43  24.38  10.62  43.28  28.22   0.00   8.12  65.69  65.69   0.00   9.38  11.62  14.03   5.91  58.01  16.41  37.52  31.25   0.00  13.14   1.39  56.97  80.62  32.57   8.98  32.30  62.25  19.97  34.91   5.56\\n   6.11  11.87   0.00  32.21   0.00  24.70   1.39  48.43  47.52  77.08   0.00  17.17  14.05  13.57  78.23   0.00   1.11  68.82   0.00   0.00  48.04   0.56   6.65  84.01  96.71  44.80  44.19   0.00  18.32   6.67  29.60   0.00   0.00  22.09   4.44   2.02   0.00   0.00  64.07  31.86  28.17  31.43  16.41  21.52   0.00  77.12  24.22  35.89   0.00   0.00  18.38   0.00   5.56   0.00  69.61   9.49  12.78  55.84   0.00   0.00   0.00   0.00  11.11  66.16   0.00   0.00  12.84  36.14  50.69  11.11  36.48  16.92   0.00   0.00  57.66   0.00   9.88   0.00   1.11  45.36  16.95  40.89   9.57   8.69   3.33\\n  43.74  23.96   0.00  58.07  53.94   0.00   0.00   0.00  19.92   0.00   0.00  67.20   0.00   5.83  40.21  10.92   5.21  41.55   0.00   0.00   0.00  23.96  59.95   1.56   8.14  62.59  35.78  58.82   0.00   0.00   5.92  25.69   0.00   4.17   0.00   0.00   0.00   1.56  32.95  63.13   0.00  61.63   0.00  63.39   0.00  80.84  77.68   0.00  38.82   4.17  64.18   2.78  79.77   0.00   0.00   0.00  22.97   0.00  71.47  33.40   0.00  73.45  59.47  52.78  36.11  11.67   0.00   9.50  29.04  34.25  16.90  10.76  23.47   0.00  50.94   0.00   0.00  30.49  75.75   0.00  61.48  46.81  41.37  18.40   5.00\\n  32.63  10.00   0.00  64.79  22.63   2.50   0.12   0.25  17.10  11.79   1.56  51.16  16.46   0.62   0.00  86.05   0.62  34.30   0.00   0.00   0.00  22.10  73.54   0.00   7.50  48.80   6.25  52.61   0.00   4.38   0.00  29.76   0.00  29.40   0.00   8.75   5.00   0.00  70.71  27.87  20.65   4.30  61.36   6.88   3.12  81.01  56.13  13.06   0.00   0.00  20.24   0.00  56.74   0.00   3.75   1.25   3.20   3.75   6.58  15.20   0.00   1.38  63.86  37.23   0.00   1.51   6.33   3.20   5.08   5.08  11.47   0.00   1.88   0.00  72.94   1.25   9.72   0.00  33.03  36.73  29.84   1.25  44.91   9.80  73.55\\n  50.13  33.78   0.00  46.23  40.42   0.00   0.00   0.00  10.62   1.25   0.00  48.79  15.39   7.36   1.88  73.98  21.30  28.76   0.00   3.34   0.00  10.78  49.02   0.00   0.00  73.69  19.31  42.87  56.08   0.00   0.00  36.73   0.00  48.31   0.00   8.12   0.00  26.44  70.75  57.14   4.17  18.19  17.66  20.24   2.27  73.62  56.88  11.95  67.81  31.16  28.54   1.25  32.55   0.00  11.00  25.80  52.36   0.00  24.00  60.85   0.00   3.40  72.65  70.36   0.00  11.67   8.89   9.03  29.65  36.71  55.09   1.39   7.50   0.00  84.48   0.00   1.25  20.47  59.44  11.81  24.99  18.94  40.87  23.12  16.69\\n  30.57  14.11   0.00  62.48  30.34   0.00   0.00   2.50  16.61   8.75   2.50  45.41   1.25   5.00   1.25  51.98   0.00  54.05   0.00   0.00   0.00  10.42  44.21   6.25  11.25  30.55  21.72  36.87   6.94   0.00   0.00  39.14   0.00  22.39   0.00   7.50  14.93  20.83  51.87  61.50   2.27   8.89  12.27  22.11   3.75  57.65  52.09   1.25  28.32   3.57  47.20   9.58  43.37   0.00   9.66   3.75  28.79   7.50  41.69  11.43   0.00  19.84  36.01  23.61   0.00   6.39   6.25  16.25  16.44  31.66  45.63   1.25   9.82   0.00  44.90   5.42  12.50  10.00  59.37   3.75  36.56  13.06  26.26  10.14   3.75\\n  46.81   0.00   0.00  44.86  16.25   0.00   0.00   0.00   0.00   0.00   0.00  46.94   7.50  20.00  11.25  54.44  23.06  30.14  47.36  10.28   0.00  10.42  24.17   0.00   1.25  43.61  28.68  22.50  28.75  17.50   0.00  28.75   0.00  12.64   0.00   0.00  85.00   4.51   5.00  40.97  11.81  11.39  12.50  11.39   1.25  35.56  41.11   2.50  12.50  10.14  32.92  83.33   7.50   6.25   7.78   4.03   1.25   0.00  32.92   0.00   0.00   3.75  54.72  30.83  35.56  35.97   0.00   0.00   0.00  25.83   0.00   0.00   0.00  35.00  10.00  78.75   0.00   0.00   6.25  33.47  27.22  17.92  30.56  23.19   7.78\\n  45.37   0.00   0.00  61.05   9.90   0.00   0.00   0.00   2.08   0.00   0.00  39.24   6.46  42.36  84.91   0.00  50.83   0.00   0.00   0.00  31.67   0.00   0.00   7.50   0.00   5.39  31.19   0.62  17.15   0.00  49.87   0.00   0.00  20.97   0.00   0.00   0.00   0.00  59.53  24.79  32.64  50.81   0.00  21.13   0.00  61.82  18.94  29.00   0.00   0.00   4.38   0.00   0.00   0.00  51.22   0.00  23.67  54.04   6.67   0.00   0.00   0.00  55.83  18.33   0.00   0.00   0.00   6.94  68.84   0.00  14.55   0.00   4.63   0.00  51.34   9.38   0.00   0.00  26.99  19.88  10.00  52.99   8.80   9.38   2.31\\n  85.04  85.04   0.00   0.00   0.00   0.00   0.00   0.00   0.00   0.00  98.86  36.40   7.69  20.80  48.82   8.18  11.88  38.74   0.00   0.00  76.45   0.00   0.00  39.02  21.88  61.43  64.72   0.00  14.38   6.25   0.00   0.00   0.00   9.55   0.00   4.17   0.00   0.00  77.61  70.85   1.25  29.85  16.25  38.76   0.00  89.00  42.51  20.00   0.00   0.00  29.52   0.00   5.14   0.00  74.30   0.00  32.08  78.67   4.17   0.00   0.00   0.00   5.42  90.92   0.00   0.00   0.00  41.53  58.91   8.75  29.09  10.00  10.00   0.00  82.75   0.00   0.00   0.00   0.00  53.25  22.63  80.60   1.25  19.09   9.94\\n  76.85  72.33   0.00   5.00   4.38   0.00   0.00   0.00  84.95  24.17   0.00  84.15   0.00  10.00  75.01   3.75  70.22   1.25   0.00  14.31   0.00  41.61  70.55   2.50   2.50   9.03  55.50  18.75  38.12   5.00   0.00  38.44   0.00  20.23   0.00   1.25   0.00   0.00  71.96   5.00  59.61  46.11  14.03  17.69  48.68  55.20   5.50  53.51   9.63  18.66  10.00  21.25  14.38   0.00  66.01   6.07  40.63  41.84   3.75   3.75   0.00   6.25  29.17  84.40   5.00   5.14   0.00  31.96  15.28  48.03   9.03  45.65  18.12   0.00  44.78   1.25  49.12  14.40   6.25  65.84  37.30  28.10  55.38  38.19  29.58\\n   0.00  20.34   0.00  75.85   5.92   0.00   0.00   0.00  30.34  48.08   0.00  52.33   0.00  18.22  39.88  15.36   0.00  42.52   0.00   0.00  66.73   0.00   0.00  48.98  34.17  43.85  32.56   4.61   9.03   0.00  70.76   0.00   0.00   6.53   0.00  10.24   0.00   0.00  63.33  73.73   1.25  23.88   6.51  32.58   0.00  68.71  50.00   1.25   2.63   0.00  62.00   0.00   5.92   0.00  67.66   0.00  23.91  69.35   5.26   4.61   0.00   0.00  62.18  45.19   1.39   4.85   1.56  19.79  36.94  69.22  56.72   0.00  25.16   0.00  63.06   0.00   0.00   0.00   0.00  67.49  40.05  55.46   6.51  31.55  10.27\\n  16.13   9.44   0.00  38.39   2.50  37.08   5.00  22.83   7.50  33.55   2.50  64.71   0.00   2.50  19.93  23.37   0.00  42.51   0.00   0.00   0.00  22.81  62.75   3.75   0.00  64.50   5.92  73.90   0.00   0.00   0.00  71.75   0.00   9.59   0.00   3.75   0.00   0.00  56.83  73.97   0.00  32.99   2.50  47.30   0.00  74.25  61.13   6.38  20.73  28.02  71.74  15.28  71.52   0.00   2.50   0.00  36.97   0.00  81.44  13.54   0.00  66.98  51.79  42.75   6.67   1.39  15.97  18.34  27.05  30.95  14.38  17.08  50.56   0.00  42.51   0.00  24.90  26.20  71.95   0.00  42.89  13.47  59.47  20.28   3.75\\n  21.52  25.04   0.00  35.13  26.62   0.00   6.25   3.75  41.47  21.23   0.00  17.05  43.70  51.37  48.17  12.78  54.21   0.00   0.00   0.00  50.16   7.50   7.50   1.25   1.25  40.56  32.98   5.62   8.44   0.00   5.00   0.00   5.00  51.17   0.00   0.00   2.50   0.00  52.77  16.24  38.23  27.44  15.70  14.40   1.25  68.00  15.53  38.78   2.50   0.00   3.52   0.00   6.16   0.00  48.85   4.51  31.63   9.42   1.79   9.11   0.00   0.00  53.27  41.02   3.75  10.00   1.25   8.12  13.12   2.50  32.03   2.50   6.25   0.00  52.33   3.87   0.00   3.75  25.48  27.85  23.04  28.07   4.19  17.88  48.95\\n   1.88   1.25   0.00  43.91   0.00  13.12   0.00  34.38   0.00   0.00   0.00  67.03   5.00  16.25  71.88   0.00  23.12  22.81   0.00   0.00   0.00  27.81  67.66  10.62   0.00  62.22  19.69  75.94   0.00   3.75   0.00  57.50   0.00  30.00   3.75   6.25   0.25   0.00  54.06  65.47   7.50  77.19   0.00  50.94   2.50  65.55  33.44  36.88   9.77   0.00  43.52   5.00  82.81   0.00   8.75   0.62  30.94   7.50  76.56  16.25   0.00  77.34  10.94  66.02   0.00   3.75  22.50  53.05  20.00  22.50  18.75  63.05  21.25   0.00  57.81   0.00   2.50  13.75  70.47   4.38  25.70  56.17  11.88  43.12   3.75\\n  18.37  55.35   0.00  32.53  49.72   0.00   0.00   0.00  12.19   6.25   0.00  51.94  11.56   1.25   0.00  83.07  10.00   7.50   0.00   1.56   0.00   0.00  35.15   0.00   0.00  70.04  26.98   8.75  44.58   5.62   0.00  20.23   0.00  24.06   0.00   0.00   0.00  27.47  54.44  55.15   1.25   0.00  48.38   0.62   2.50  45.35  44.45   3.12  29.31  26.07  30.66   0.00   6.95   0.00  37.12   8.40  15.38  21.25   2.50  22.97   0.00   0.62  58.23  53.33   0.00   0.00  14.69  14.69  22.58  32.09  54.52   0.00   4.06   0.00  62.74   0.00   0.00   0.00   1.25  50.00  12.42  23.96   6.88  23.26  27.64\\n  10.00  95.62   2.50   3.12  12.50   0.00   0.00   2.50   0.00   0.00   0.00  81.94   0.00  22.29  85.49   0.00  53.75   0.00   0.00   5.00   0.00  26.25  66.04   3.12   5.00  10.00  32.50  62.15   6.25  10.00   0.00  59.03   0.00  22.50   0.00   3.75  39.17   0.00  73.54  38.68  26.88  77.08   0.00  16.25  25.00  66.04  36.25  29.38  10.00  58.12  24.38  62.29  51.04   0.00  14.38   0.00  34.38   0.00  56.32  21.25   0.00  30.38  44.38  31.25  96.88  48.96   0.00   0.00   0.00   0.00   0.00   0.00   1.25  35.00  53.40  45.90   0.00  17.50  70.35   3.75  16.25  13.75  48.75  19.38   5.00\\n  10.13  41.37   0.00  47.27   3.75   8.00   0.50   0.00  37.00   9.09   0.00  78.21   0.00   1.25  26.31  21.19   8.07  21.02   0.00   0.00   0.00  12.95  76.17  15.91   1.25  67.09  32.83  49.64   8.12   6.25   0.00  16.70   0.00  17.54   0.00   0.00   0.00   0.00  61.23  49.05   1.25  19.55   4.66  15.34   0.62  70.14  54.26   1.88   0.00   0.00  32.05   0.00  51.12   0.00   7.50   0.00   6.16   0.00  22.27   4.54   0.00   3.75  55.39  40.72   0.00   6.25   0.00  10.86  18.36   0.00  17.47   0.00  12.50   0.00  54.43   0.00   0.00   0.00   5.25  43.09  42.17   0.62  45.99  18.57  79.11\\n  18.84   4.82   0.00  67.59  44.27   0.00   0.00   0.00  11.61  13.12   0.00  18.99  45.94  62.06  76.46   2.50  82.08   9.11  70.92   1.25   0.00   2.50   6.88   0.00   4.38  20.76  33.75  31.88  28.12  24.74   0.00   5.00  90.74  28.12   0.00   5.00  76.85   0.00   6.25  24.76  39.06  49.94   5.00  16.55   7.19  11.88   8.78  52.14   2.50   6.88  14.68  76.63   9.00   0.00   9.62   2.50   8.12   0.25  20.36  11.88   0.00  10.00  38.06  16.88  81.45  38.78   0.00   0.00   0.00   0.00   0.00   0.00   0.00  74.18  12.50  62.30   0.00   0.00  20.00  29.43  23.96  60.41  11.19  33.77  18.75\\n  63.57  43.10   0.00  17.29  54.51   0.00   0.00   0.00  29.58  22.87  53.15  67.37   0.00   3.41   7.50  45.54  16.46   0.00   0.00  12.27   0.00  22.08  61.36   0.00   0.00  69.78  22.71  26.25  15.59   1.04   0.00  27.28   0.00  19.97   0.00   1.14   0.62   0.00  57.43  38.21   3.33  10.62   4.66  13.11   3.41  66.87  70.54   4.17  70.56  29.83  36.09  31.25  22.76   0.00  26.91  12.33  53.74   3.41  10.89  34.74   0.00   8.98  60.20  24.70   0.00  13.12   0.00   0.00   7.27  63.95  21.23   0.00  25.86   0.00  49.09   2.08  33.41   7.27  34.46   2.27  48.68  13.01  35.95  28.26   5.00\\n  55.31  55.46   0.00  58.48  15.50   1.49   0.15   0.00  26.67  31.35   4.09  32.05  19.46  42.45  68.31   4.61  35.81   5.13   0.00   0.00  42.86   7.61   3.80  13.72   6.35  62.77  39.99   2.80  14.58   0.19  30.37   0.00   4.95  34.80   0.00   0.00   0.46   0.19  58.21  10.89  45.96  47.02  11.91  18.63   0.00  62.42  20.93  44.12   7.14   0.00  16.06   0.00   0.30   0.00  61.33   2.32   5.24  60.89   0.00   0.72   0.00   0.00  61.94  61.57   0.00   8.76   0.31   8.03  30.36  10.21  57.48   0.59   9.17   0.00  57.36   0.55   0.00   0.32   3.34  47.87  13.97  51.57   5.04  18.89  72.99\\n  10.22  21.53  27.73   0.33  60.82   0.00   0.00   0.16   3.30   0.80   0.00   0.62  73.27  39.21  47.82  17.26  14.81  28.20  86.44   0.00   0.00   0.00   0.00   5.76   0.00  41.85  21.95  11.78   2.55  11.96   0.00   0.00   0.00   7.57   0.82   1.29  60.36   0.00   0.00  59.09   2.96  41.88   9.18  26.29   7.69   4.80  53.15   1.72   0.62   0.00  50.56  56.88   2.99  11.80   7.38   0.00   8.86   0.75  20.01   4.02   5.19   6.24  57.10  56.41  20.34  24.07   0.00   0.00   0.00   0.00   0.00   0.00   0.00  77.19   0.00  71.40   0.00   0.00  10.73  21.06  60.38  49.62   3.96  14.05  37.98\\n'}"
      ]
     },
     "execution_count": 6,
     "metadata": {},
     "output_type": "execute_result"
    }
   ],
   "source": [
    "from google.colab import files\n",
    "files.upload()"
   ]
  },
  {
   "cell_type": "code",
   "execution_count": null,
   "metadata": {
    "colab": {
     "base_uri": "https://localhost:8080/"
    },
    "id": "iqMjYwfuF7zH",
    "outputId": "d96fa46a-43b8-4322-b20a-e6267734b42e"
   },
   "outputs": [
    {
     "name": "stdout",
     "output_type": "stream",
     "text": [
      "Mounted at /content/gdrive\n"
     ]
    }
   ],
   "source": [
    "from google.colab import drive\n",
    "drive.mount('/content/gdrive')"
   ]
  },
  {
   "cell_type": "code",
   "execution_count": null,
   "metadata": {
    "id": "_XbNEJiMGQet"
   },
   "outputs": [],
   "source": [
    "!cp gdrive/MyDrive/zsl/AwA2-features.zip ./"
   ]
  },
  {
   "cell_type": "code",
   "execution_count": null,
   "metadata": {
    "id": "J1xQ_Sbaq1sV"
   },
   "outputs": [],
   "source": [
    "!cp gdrive/MyDrive/zsl/glove.6B.zip ./"
   ]
  },
  {
   "cell_type": "code",
   "execution_count": null,
   "metadata": {
    "colab": {
     "base_uri": "https://localhost:8080/"
    },
    "id": "NzWjF4f-rXzR",
    "outputId": "cbec0a5c-e96b-4dd4-b487-af9051738808"
   },
   "outputs": [
    {
     "name": "stdout",
     "output_type": "stream",
     "text": [
      " \u001b[0m\u001b[01;34mAnimals_with_Attributes2\u001b[0m/   glove.6B.zip\n",
      " AwA2-features.zip          'predicate-matrix-binary (1).txt'\n",
      " classes.txt                 predicate-matrix-binary.txt\n",
      " \u001b[01;34mgdrive\u001b[0m/                    'predicate-matrix-continuous (1).txt'\n",
      " glove.6B.100d.txt           predicate-matrix-continuous.txt\n",
      " glove.6B.200d.txt           predicates.txt\n",
      " glove.6B.300d.txt           \u001b[01;34msample_data\u001b[0m/\n",
      " glove.6B.50d.txt\n"
     ]
    }
   ],
   "source": [
    "ls"
   ]
  },
  {
   "cell_type": "code",
   "execution_count": null,
   "metadata": {
    "colab": {
     "base_uri": "https://localhost:8080/"
    },
    "id": "tXmklNuCrEed",
    "outputId": "7fa0afca-ec13-46b7-fc65-826aaafe6ad6"
   },
   "outputs": [
    {
     "name": "stdout",
     "output_type": "stream",
     "text": [
      "Archive:  glove.6B.zip\n",
      "  inflating: glove.6B.50d.txt        \n",
      "  inflating: glove.6B.100d.txt       \n",
      "  inflating: glove.6B.200d.txt       \n",
      "  inflating: glove.6B.300d.txt       \n"
     ]
    }
   ],
   "source": [
    "! unzip glove.6B.zip"
   ]
  },
  {
   "cell_type": "code",
   "execution_count": null,
   "metadata": {
    "colab": {
     "base_uri": "https://localhost:8080/"
    },
    "id": "6gyUrugCGQhW",
    "outputId": "f0eccc84-5f77-49f0-df82-99649a951746"
   },
   "outputs": [
    {
     "name": "stdout",
     "output_type": "stream",
     "text": [
      "Archive:  AwA2-features.zip\n",
      "   creating: Animals_with_Attributes2/\n",
      "   creating: Animals_with_Attributes2/Features/\n",
      "   creating: Animals_with_Attributes2/Features/ResNet101/\n",
      "  inflating: Animals_with_Attributes2/Features/ResNet101/AwA2-labels.txt  \n",
      "  inflating: Animals_with_Attributes2/Features/ResNet101/AwA2-filenames.txt  \n",
      "  inflating: Animals_with_Attributes2/Features/ResNet101/AwA2-features.txt  \n"
     ]
    }
   ],
   "source": [
    "! unzip AwA2-features.zip"
   ]
  },
  {
   "cell_type": "code",
   "execution_count": null,
   "metadata": {
    "id": "PGnss4PWGQjk"
   },
   "outputs": [],
   "source": [
    "f = open('predicate-matrix-binary.txt','r')\n",
    "mat = []\n",
    "for i in f:\n",
    "  mat.append(str(i).split())\n",
    "mat = np.array(mat, dtype = np.float)"
   ]
  },
  {
   "cell_type": "code",
   "execution_count": null,
   "metadata": {
    "id": "J_csQSENlm3y"
   },
   "outputs": [],
   "source": [
    "f = open('predicate-matrix-continuous.txt','r')\n",
    "mat = []\n",
    "for i in f:\n",
    "  mat.append(str(i).split())\n",
    "mat = np.array(mat, dtype = np.float)"
   ]
  },
  {
   "cell_type": "code",
   "execution_count": null,
   "metadata": {
    "id": "4P5Qn-x9rLiq"
   },
   "outputs": [],
   "source": [
    "f = open('glove.6B.300d.txt','r')\n",
    "dataV = []\n",
    "n=0\n",
    "for i in f:\n",
    "  if(n in lib):\n",
    "    dataV.append(str(i).split())\n",
    "  n+=1\n",
    "dataV = np.array(dataV)"
   ]
  },
  {
   "cell_type": "code",
   "execution_count": null,
   "metadata": {
    "id": "bHVeUc0Jgvdh"
   },
   "outputs": [],
   "source": [
    "f = open('glove.6B.50d.txt','r')\n",
    "dataV = []\n",
    "for i in f:\n",
    "    dataV.append(str(i).split())\n",
    "dataV = np.array(dataV)"
   ]
  },
  {
   "cell_type": "code",
   "execution_count": null,
   "metadata": {
    "colab": {
     "base_uri": "https://localhost:8080/"
    },
    "id": "0pOYeoMjreA5",
    "outputId": "c53c2a93-513b-49b0-e12d-09b6da2dfe77"
   },
   "outputs": [
    {
     "data": {
      "text/plain": [
       "(56, 301)"
      ]
     },
     "execution_count": 20,
     "metadata": {},
     "output_type": "execute_result"
    }
   ],
   "source": [
    "dataV.shape"
   ]
  },
  {
   "cell_type": "code",
   "execution_count": null,
   "metadata": {
    "id": "TiGCOIOjr7A6"
   },
   "outputs": [],
   "source": [
    "lib = []\n",
    "nam = []\n",
    "for i in range(400000):\n",
    "  if(dataV[i][0] in names or dataV[i][0] in plus):\n",
    "    lib.append(i)\n",
    "    nam.append(dataV[i][0])"
   ]
  },
  {
   "cell_type": "code",
   "execution_count": null,
   "metadata": {
    "colab": {
     "base_uri": "https://localhost:8080/"
    },
    "id": "8-ERMURgswSz",
    "outputId": "5f078154-cca4-4b4e-ac1f-4fb8cee1bc8b"
   },
   "outputs": [
    {
     "data": {
      "text/plain": [
       "56"
      ]
     },
     "execution_count": 19,
     "metadata": {},
     "output_type": "execute_result"
    }
   ],
   "source": [
    "len(nam)"
   ]
  },
  {
   "cell_type": "code",
   "execution_count": null,
   "metadata": {
    "colab": {
     "base_uri": "https://localhost:8080/"
    },
    "id": "DtA0bR_5yj-0",
    "outputId": "d81ac123-80b5-42e5-e756-9b020fc10b1d"
   },
   "outputs": [
    {
     "data": {
      "text/plain": [
       "(50, 100)"
      ]
     },
     "execution_count": 51,
     "metadata": {},
     "output_type": "execute_result"
    }
   ],
   "source": [
    "np.array(mat).shape"
   ]
  },
  {
   "cell_type": "code",
   "execution_count": null,
   "metadata": {
    "id": "7WJqnqyn00QR"
   },
   "outputs": [],
   "source": [
    "def find(a,b):\n",
    "  for i in range(len(b)):\n",
    "    if(a == b[i]):\n",
    "      return i\n",
    "  print(a)\n",
    "  return None"
   ]
  },
  {
   "cell_type": "code",
   "execution_count": null,
   "metadata": {
    "colab": {
     "base_uri": "https://localhost:8080/"
    },
    "id": "Hm5wtdQN1bG_",
    "outputId": "99889b6f-4c14-4678-8321-df4d9d69d0e1"
   },
   "outputs": [
    {
     "data": {
      "text/plain": [
       "5"
      ]
     },
     "execution_count": 30,
     "metadata": {},
     "output_type": "execute_result"
    }
   ],
   "source": [
    "find('bear',nam)"
   ]
  },
  {
   "cell_type": "code",
   "execution_count": null,
   "metadata": {
    "id": "s54duILYGQlt"
   },
   "outputs": [],
   "source": [
    "f = open('Animals_with_Attributes2/Features/ResNet101/AwA2-features.txt','r')\n",
    "data = []\n",
    "n = 0\n",
    "for i in f:\n",
    "  if(n == 37322 ):\n",
    "    break\n",
    "  data.append(str(i).split())\n",
    "  n+=1\n",
    "data = np.array(data)"
   ]
  },
  {
   "cell_type": "code",
   "execution_count": null,
   "metadata": {
    "id": "0Q82YtRUGbQs"
   },
   "outputs": [],
   "source": [
    "f = open('Animals_with_Attributes2/Features/ResNet101/AwA2-labels.txt','r')\n",
    "s = []\n",
    "for i in f:\n",
    "  s.append(int(i))\n",
    "l = np.array(s)"
   ]
  },
  {
   "cell_type": "code",
   "execution_count": null,
   "metadata": {
    "id": "nY1n3YbHsNXi"
   },
   "outputs": [],
   "source": [
    "f = open('classes.txt','r')\n",
    "names = []\n",
    "for i in f:\n",
    "  names.append(str(i).split()[1])\n"
   ]
  },
  {
   "cell_type": "code",
   "execution_count": null,
   "metadata": {
    "id": "4YJmuQ0Ksgcg"
   },
   "outputs": [],
   "source": [
    "plus1 = []\n",
    "for i in names:\n",
    "  if('+' in i):\n",
    "    plus1.append([i.split('+')[0],i.split('+')[1]])\n",
    "  else:\n",
    "    plus1.append(i)\n",
    "\n"
   ]
  },
  {
   "cell_type": "code",
   "execution_count": null,
   "metadata": {
    "id": "Cyt1nl7w2Qdm"
   },
   "outputs": [],
   "source": [
    "plus = []\n",
    "for i in names:\n",
    "  if('+' in i):\n",
    "    plus.append(i.split('+')[0])\n",
    "    plus.append(i.split('+')[1])"
   ]
  },
  {
   "cell_type": "code",
   "execution_count": null,
   "metadata": {
    "id": "FlLqRN7SB4sj"
   },
   "outputs": [],
   "source": [
    "a = list(dataV[10][1:].astype(np.float))"
   ]
  },
  {
   "cell_type": "code",
   "execution_count": null,
   "metadata": {
    "colab": {
     "base_uri": "https://localhost:8080/"
    },
    "id": "vFSBqxlnCUG7",
    "outputId": "6a5c2253-2646-4493-b999-fe89ad00e044"
   },
   "outputs": [
    {
     "data": {
      "text/plain": [
       "(2, 100)"
      ]
     },
     "execution_count": 39,
     "metadata": {},
     "output_type": "execute_result"
    }
   ],
   "source": [
    "np.array([a,a]).shape"
   ]
  },
  {
   "cell_type": "code",
   "execution_count": null,
   "metadata": {
    "id": "LabGmoH2wpaR"
   },
   "outputs": [],
   "source": [
    "mat = []\n",
    "for i in range(50):\n",
    "  s = 0\n",
    "  n = 0\n",
    "  if(len(plus1[i])==2 and plus1[i]!=\"ox\"):\n",
    "    for j in range(2):\n",
    "      ind = find(plus1[i][j],nam)\n",
    "      n+=1\n",
    "      s+=dataV[ind][1:].astype(np.float)\n",
    "    mat.append(list(s/2))\n",
    "  else:\n",
    "    ind = find(plus1[i],nam)\n",
    "    s=dataV[ind][1:].astype(np.float)\n",
    "    mat.append(list(s))"
   ]
  },
  {
   "cell_type": "code",
   "execution_count": null,
   "metadata": {
    "id": "IGfD2JIYGbSk"
   },
   "outputs": [],
   "source": [
    "def one_hot(labels):\n",
    "    res = []\n",
    "    for i in labels:\n",
    "        a = [0]*50\n",
    "        a[i-1] = 1\n",
    "        res.append(a)\n",
    "    return np.array(res)"
   ]
  },
  {
   "cell_type": "code",
   "execution_count": null,
   "metadata": {
    "id": "RoeFes7_AQIR"
   },
   "outputs": [],
   "source": [
    "mat = np.array(mat)"
   ]
  },
  {
   "cell_type": "code",
   "execution_count": null,
   "metadata": {
    "colab": {
     "base_uri": "https://localhost:8080/"
    },
    "id": "izy8B2DnBi6v",
    "outputId": "05414560-9749-4d37-ce61-c4e82df1e8d9"
   },
   "outputs": [
    {
     "data": {
      "text/plain": [
       "(50, 85)"
      ]
     },
     "execution_count": 107,
     "metadata": {},
     "output_type": "execute_result"
    }
   ],
   "source": [
    "mat.shape"
   ]
  },
  {
   "cell_type": "code",
   "execution_count": null,
   "metadata": {
    "id": "cy3JYFNqqoGE"
   },
   "outputs": [],
   "source": []
  },
  {
   "cell_type": "code",
   "execution_count": null,
   "metadata": {
    "id": "mkk2VDKHGhmu"
   },
   "outputs": [],
   "source": [
    "data25S = []\n",
    "l25S = []\n",
    "mat25S = []\n",
    "r =np.arange(30601,37322)\n",
    "np.random.shuffle(r)\n",
    "for i in r:\n",
    "  data25S.append(data[i])\n",
    "  l25S.append(l[i])\n",
    "  mat25S.append(mat[l[i]-1])"
   ]
  },
  {
   "cell_type": "code",
   "execution_count": null,
   "metadata": {
    "id": "FcnxWKlAGhpW"
   },
   "outputs": [],
   "source": [
    "dataS = []\n",
    "lS = []\n",
    "matS1= []\n",
    "r =np.arange(0,30601)\n",
    "np.random.shuffle(r)\n",
    "for i in r:\n",
    "  dataS.append(data[i])\n",
    "  lS.append(l[i])\n",
    "  matS1.append(mat[l[i]-1])"
   ]
  },
  {
   "cell_type": "code",
   "execution_count": null,
   "metadata": {
    "id": "A8fkoq7oGbVG"
   },
   "outputs": [],
   "source": [
    "\n",
    "data10S = np.array(data25S).astype(np.float)\n",
    "l10S = np.array(one_hot(l25S)).astype(np.float)\n",
    "mat10S = np.array(mat25S).astype(np.float)"
   ]
  },
  {
   "cell_type": "code",
   "execution_count": null,
   "metadata": {
    "id": "YyWSDSTUGQoZ"
   },
   "outputs": [],
   "source": [
    "dataS = np.array(dataS).astype(np.float)\n",
    "lS = np.array(one_hot(lS)).astype(np.float)\n",
    "matS = np.array(matS1)"
   ]
  },
  {
   "cell_type": "code",
   "execution_count": null,
   "metadata": {
    "id": "1GSnU-fDHZNu"
   },
   "outputs": [],
   "source": [
    "inp = Input(2048)\n",
    "out1 = Dense(512,activation = 'relu',kernel_regularizer=regularizers.l2(1e-5),bias_regularizer=regularizers.l2(1e-5))(inp)\n",
    "out11 = tf.keras.layers.Dropout(.1)(out1)\n",
    "S = Dense(85,kernel_regularizer=regularizers.l2(1e-5),bias_regularizer=regularizers.l2(1e-5), activation = 'relu')(out11)\n",
    "out2 = Dense(512,activation = 'relu',kernel_regularizer=regularizers.l2(1e-5),bias_regularizer=regularizers.l2(1e-5))(S)\n",
    "out22 = tf.keras.layers.Dropout(.1)(out2)\n",
    "out = Dense(2048,kernel_regularizer=regularizers.l2(1e-5),\n",
    "    bias_regularizer=regularizers.l2(1e-5),activation = 'relu')(out22)"
   ]
  },
  {
   "cell_type": "code",
   "execution_count": null,
   "metadata": {
    "id": "n0DmpRnLHZQN"
   },
   "outputs": [],
   "source": [
    "model = Model(inputs = inp, outputs = tf.concat([S,out],axis = -1))"
   ]
  },
  {
   "cell_type": "code",
   "execution_count": null,
   "metadata": {
    "id": "Vp1roTKqK9Wb"
   },
   "outputs": [],
   "source": [
    "mse = tf.keras.losses.MeanSquaredError(\n",
    "...     reduction=tf.keras.losses.Reduction.NONE)"
   ]
  },
  {
   "cell_type": "code",
   "execution_count": null,
   "metadata": {
    "id": "bHXvUFdzY7Ek"
   },
   "outputs": [],
   "source": []
  },
  {
   "cell_type": "code",
   "execution_count": null,
   "metadata": {
    "id": "Icu3ttuMI-mw"
   },
   "outputs": [],
   "source": [
    "def my_loss(y_true, y_pred):\n",
    "  return mse(y_true[:,:85],y_pred[:,:85])+4.5*mse(y_true[:,85:],y_pred[:,85:])"
   ]
  },
  {
   "cell_type": "code",
   "execution_count": null,
   "metadata": {
    "id": "wrpslVuFOV_W"
   },
   "outputs": [],
   "source": [
    "def my_loss(y_true, y_pred):\n",
    "  return mse(y_true[:,:300],y_pred[:,:300])+mse(y_true[:,300:],y_pred[:,300:])"
   ]
  },
  {
   "cell_type": "code",
   "execution_count": null,
   "metadata": {
    "colab": {
     "base_uri": "https://localhost:8080/"
    },
    "id": "npHNx-fJLVCC",
    "outputId": "77c38388-aaec-4659-a920-5cd11624cef9"
   },
   "outputs": [
    {
     "name": "stderr",
     "output_type": "stream",
     "text": [
      "/usr/local/lib/python3.7/dist-packages/keras/optimizer_v2/optimizer_v2.py:356: UserWarning: The `lr` argument is deprecated, use `learning_rate` instead.\n",
      "  \"The `lr` argument is deprecated, use `learning_rate` instead.\")\n"
     ]
    }
   ],
   "source": [
    "INIT_LR = 0.002\n",
    "BATCH_SIZE = 64\n",
    "EPOCHS = 70\n",
    "model.compile(\n",
    "    loss = my_loss,\n",
    "    optimizer=keras.optimizers.Adamax(lr=INIT_LR),    \n",
    ")\n",
    "def lr_scheduler(epoch):\n",
    "    return INIT_LR * 0.98** epoch"
   ]
  },
  {
   "cell_type": "code",
   "execution_count": null,
   "metadata": {
    "colab": {
     "base_uri": "https://localhost:8080/"
    },
    "id": "6_qZh2aq_ObO",
    "outputId": "2819097b-311c-4ac9-96d5-4067492e326f"
   },
   "outputs": [
    {
     "data": {
      "text/plain": [
       "(30601, 85)"
      ]
     },
     "execution_count": 105,
     "metadata": {},
     "output_type": "execute_result"
    }
   ],
   "source": [
    "matS.shape"
   ]
  },
  {
   "cell_type": "code",
   "execution_count": null,
   "metadata": {
    "id": "cuUFNlyHJdld"
   },
   "outputs": [],
   "source": [
    "history2 = model.fit(\n",
    "    dataS, tf.concat([matS,dataS],axis = -1),  # prepared data\n",
    "    batch_size=BATCH_SIZE,\n",
    "    epochs=EPOCHS,\n",
    "    validation_data=(data10S, tf.concat([mat10S,data10S],axis = -1)),\n",
    "    callbacks=[keras.callbacks.LearningRateScheduler(lr_scheduler)],\n",
    "    shuffle=True,\n",
    "    verbose=0,\n",
    ")"
   ]
  },
  {
   "cell_type": "code",
   "execution_count": null,
   "metadata": {
    "colab": {
     "base_uri": "https://localhost:8080/",
     "height": 285
    },
    "id": "dpb_AYbFP6EX",
    "outputId": "fa365297-ebcb-4968-db52-d17011b777da"
   },
   "outputs": [
    {
     "data": {
      "text/plain": [
       "[<matplotlib.lines.Line2D at 0x7f7665067d50>]"
      ]
     },
     "execution_count": 255,
     "metadata": {},
     "output_type": "execute_result"
    },
    {
     "data": {
      "image/png": "[encoded data removed]",
      "text/plain": [
       "<Figure size 432x288 with 1 Axes>"
      ]
     },
     "metadata": {
      "needs_background": "light"
     },
     "output_type": "display_data"
    }
   ],
   "source": [
    "#plt.plot(history2.history['loss'], label = '100%') \n",
    "#plt.plot(history2.history['val_loss'],label = '100%',linestyle = '--')\n",
    "plt.plot(history2.history['loss'], label = '100%') \n",
    "plt.plot(history2.history['val_loss'],label = '100%',linestyle = '--')"
   ]
  },
  {
   "cell_type": "code",
   "execution_count": null,
   "metadata": {
    "id": "FR4lmjmGP6Gt"
   },
   "outputs": [],
   "source": [
    "def pred(pred, mat):\n",
    "  r = mse(pred[:100],mat)\n",
    "  return tf.argmin(r).numpy()"
   ]
  },
  {
   "cell_type": "code",
   "execution_count": null,
   "metadata": {
    "id": "Q-yozN0IMxkb"
   },
   "outputs": [],
   "source": [
    "cos = tf.keras.losses.cosine_similarity"
   ]
  },
  {
   "cell_type": "code",
   "execution_count": null,
   "metadata": {
    "id": "8TgaEeyPRVbB"
   },
   "outputs": [],
   "source": [
    "data = data.astype(np.float)"
   ]
  },
  {
   "cell_type": "code",
   "execution_count": null,
   "metadata": {
    "colab": {
     "base_uri": "https://localhost:8080/"
    },
    "id": "1y-EHt9gl8oo",
    "outputId": "7b689fd7-764c-46ba-df1e-2b697ef40f54"
   },
   "outputs": [
    {
     "name": "stdout",
     "output_type": "stream",
     "text": [
      "6720 1982 0.7050595238095239\n"
     ]
    }
   ],
   "source": [
    "# unseen classes / gzsl train on 100% 40/10\n",
    "n = 0\n",
    "e = 0\n",
    "for i in range(210):\n",
    "  pr = model(data[i*32+30601:i*32+32+30601])\n",
    "  for j in range(32):\n",
    "    n+=1\n",
    "    if(pred(pr[j],mat10T)!=l1[i*32+j+30601]):\n",
    "      e+=1\n",
    "print(n,e,(n-e)/n)"
   ]
  },
  {
   "cell_type": "code",
   "execution_count": null,
   "metadata": {
    "colab": {
     "base_uri": "https://localhost:8080/"
    },
    "id": "wyu3FyRUtIrx",
    "outputId": "cd2c3855-18f5-45b1-ab5e-858fbfde1b09"
   },
   "outputs": [
    {
     "name": "stdout",
     "output_type": "stream",
     "text": [
      "28800 2133 0.9259375\n"
     ]
    }
   ],
   "source": [
    "# seen classes / zsl train on 100% 40/10\n",
    "n = 0\n",
    "e = 0\n",
    "for i in range(900):\n",
    "  pr = model(data[i*32+0:i*32+32+0])\n",
    "  for j in range(32):\n",
    "    n+=1\n",
    "    if(pred(pr[j],matT)!=l1[i*32+j+0]):\n",
    "      e+=1\n",
    "print(n,e,(n-e)/n)"
   ]
  },
  {
   "cell_type": "markdown",
   "metadata": {
    "id": "gpAsgCoJl9I0"
   },
   "source": [
    "300d semantic\n"
   ]
  },
  {
   "cell_type": "code",
   "execution_count": null,
   "metadata": {
    "colab": {
     "base_uri": "https://localhost:8080/"
    },
    "id": "D2OONd9Lk9lB",
    "outputId": "08776225-2402-41fa-979a-6ca3161775c1"
   },
   "outputs": [
    {
     "name": "stdout",
     "output_type": "stream",
     "text": [
      "6720 1942 0.7110119047619048\n"
     ]
    }
   ],
   "source": [
    "# unseen classes / gzsl train on 100% 40/10\n",
    "n = 0\n",
    "e = 0\n",
    "for i in range(210):\n",
    "  pr = model(data[i*32+30601:i*32+32+30601])\n",
    "  for j in range(32):\n",
    "    n+=1\n",
    "    if(pred(pr[j],mat10T)!=l1[i*32+j+30601]):\n",
    "      e+=1\n",
    "print(n,e,(n-e)/n)"
   ]
  },
  {
   "cell_type": "code",
   "execution_count": null,
   "metadata": {
    "colab": {
     "base_uri": "https://localhost:8080/"
    },
    "id": "PmzHvUiKP6Iu",
    "outputId": "26a08b6f-1ca1-4421-dffe-82f08c3cf2ab"
   },
   "outputs": [
    {
     "name": "stdout",
     "output_type": "stream",
     "text": [
      "28800 977 0.9660763888888889\n"
     ]
    }
   ],
   "source": [
    "# seen classes / zsl train on 100% 40/10\n",
    "n = 0\n",
    "e = 0\n",
    "for i in range(900):\n",
    "  pr = model(data[i*32+0:i*32+32+0])\n",
    "  for j in range(32):\n",
    "    n+=1\n",
    "    if(pred(pr[j],matT)!=l1[i*32+j+0]):\n",
    "      e+=1\n",
    "print(n,e,(n-e)/n)"
   ]
  },
  {
   "cell_type": "code",
   "execution_count": null,
   "metadata": {
    "colab": {
     "base_uri": "https://localhost:8080/"
    },
    "id": "xWSy0a5VQLqr",
    "outputId": "cf8f98ac-716c-4fef-8a42-bcc2f4e744b3"
   },
   "outputs": [
    {
     "data": {
      "text/plain": [
       "0.9"
      ]
     },
     "execution_count": 242,
     "metadata": {},
     "output_type": "execute_result"
    }
   ],
   "source": [
    "0.9"
   ]
  },
  {
   "cell_type": "code",
   "execution_count": null,
   "metadata": {
    "colab": {
     "base_uri": "https://localhost:8080/"
    },
    "id": "rpoxuS-rTWK7",
    "outputId": "5e943f8c-bd6b-47cc-9d94-da245b128e3e"
   },
   "outputs": [
    {
     "data": {
      "text/plain": [
       "0.8156573922531369"
      ]
     },
     "execution_count": 76,
     "metadata": {},
     "output_type": "execute_result"
    }
   ],
   "source": [
    "auc(model(data10S)[:,:300],mat10S)"
   ]
  },
  {
   "cell_type": "code",
   "execution_count": null,
   "metadata": {
    "id": "fIt8ewOpNP-F"
   },
   "outputs": [],
   "source": [
    "matT=tf.convert_to_tensor(mat,dtype=float)\n",
    "mat10T=tf.convert_to_tensor(mat10,dtype=float)"
   ]
  },
  {
   "cell_type": "code",
   "execution_count": null,
   "metadata": {
    "id": "f2dYpt1GTQUp"
   },
   "outputs": [],
   "source": [
    "def auc(p,mat):\n",
    "  n = len(p)*300\n",
    "  r = np.sum(np.round(p)==np.round(mat))\n",
    "  return r/n"
   ]
  },
  {
   "cell_type": "code",
   "execution_count": null,
   "metadata": {
    "colab": {
     "base_uri": "https://localhost:8080/"
    },
    "id": "xV8TRa0SoerG",
    "outputId": "f224e5e1-c32c-44d1-d006-fef1ab804283"
   },
   "outputs": [
    {
     "data": {
      "text/plain": [
       "TensorShape([10, 85])"
      ]
     },
     "execution_count": 127,
     "metadata": {},
     "output_type": "execute_result"
    }
   ],
   "source": [
    "mat10T.shape"
   ]
  },
  {
   "cell_type": "code",
   "execution_count": null,
   "metadata": {
    "id": "n_se-4B1Sgit"
   },
   "outputs": [],
   "source": [
    "mat10 = []\n",
    "for i in range(10):\n",
    "  mat10.append(mat[np.unique(l1[30601:])[i]])\n",
    "mat10 = np.array(mat10)"
   ]
  },
  {
   "cell_type": "code",
   "execution_count": null,
   "metadata": {
    "id": "s92zQq9ERGz7"
   },
   "outputs": [],
   "source": [
    "l1 = l-1"
   ]
  },
  {
   "cell_type": "code",
   "execution_count": null,
   "metadata": {
    "id": "DjUWRRYkR7mr"
   },
   "outputs": [],
   "source": [
    "def pred(pred, mat):\n",
    "  r = mse(pred[:85],mat)\n",
    "  return np.unique(l1[30601:])[tf.argmin(r).numpy()]"
   ]
  },
  {
   "cell_type": "code",
   "execution_count": null,
   "metadata": {
    "id": "m2k8fI_wlCjX"
   },
   "outputs": [],
   "source": [
    "def pred(pred, mat):\n",
    "  r = mse(pred[:85],mat)\n",
    "  return tf.argmin(r).numpy()"
   ]
  }
 ],
 "metadata": {
  "accelerator": "GPU",
  "colab": {
   "machine_shape": "hm",
   "name": "Untitled4.ipynb",
   "provenance": []
  },
  "kernelspec": {
   "display_name": "Python 3 (ipykernel)",
   "language": "python",
   "name": "python3"
  },
  "language_info": {
   "codemirror_mode": {
    "name": "ipython",
    "version": 3
   },
   "file_extension": ".py",
   "mimetype": "text/x-python",
   "name": "python",
   "nbconvert_exporter": "python",
   "pygments_lexer": "ipython3",
   "version": "3.9.12"
  }
 },
 "nbformat": 4,
 "nbformat_minor": 1
}
